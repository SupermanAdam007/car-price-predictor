{
 "cells": [
  {
   "cell_type": "code",
   "execution_count": 140,
   "metadata": {},
   "outputs": [],
   "source": [
    "import json\n",
    "import logging\n",
    "import os\n",
    "import time\n",
    "from random import randint\n",
    "from string import Template\n",
    "\n",
    "import requests\n",
    "\n",
    "logging.basicConfig(level=logging.INFO)\n"
   ]
  },
  {
   "cell_type": "code",
   "execution_count": 99,
   "metadata": {},
   "outputs": [],
   "source": [
    "FILTER_PAGE_FILE=\"./data/base/filter_page.json\"\n",
    "\n",
    "os.makedirs(\"./data/base\", exist_ok=True)\n",
    "os.makedirs(\"./data/counts\", exist_ok=True)\n",
    "os.makedirs(\"./data/search-results\", exist_ok=True)"
   ]
  },
  {
   "cell_type": "code",
   "execution_count": 78,
   "metadata": {},
   "outputs": [],
   "source": [
    "def get_and_save(url, file_name=\"./data/tmp.json\"):\n",
    "  headers = {\n",
    "    \"User-Agent\": \"Mozilla/5.0 (Windows NT 10.0; Win64; x64) AppleWebKit/537.36 (KHTML, like Gecko) Chrome/74.0.3729.169 Safari/537.36\",\n",
    "  }\n",
    "  json_response = requests.get(url, headers=headers).json()\n",
    "\n",
    "  with open(file_name, \"w\") as output_file:\n",
    "      output_file.write(json.dumps(json_response, ensure_ascii=False))\n"
   ]
  },
  {
   "cell_type": "code",
   "execution_count": 79,
   "metadata": {},
   "outputs": [],
   "source": [
    "def print_dict(dict_obj):\n",
    "    print(json.dumps(dict_obj, indent=2, ensure_ascii=False))"
   ]
  },
  {
   "cell_type": "code",
   "execution_count": 80,
   "metadata": {},
   "outputs": [],
   "source": [
    "def get_options_of_filter_page_item(filter_page_item_name):\n",
    "    with open(FILTER_PAGE_FILE, \"r\") as f:\n",
    "        filter_page = json.load(f)\n",
    "\n",
    "    return list(\n",
    "        filter(\n",
    "            lambda x: x[\"name\"] == filter_page_item_name,\n",
    "            filter_page[\"result\"][\"sections\"][0][\"elements\"],\n",
    "        )\n",
    "    )[0][\"options\"]"
   ]
  },
  {
   "cell_type": "code",
   "execution_count": 91,
   "metadata": {},
   "outputs": [],
   "source": [
    "def get_manufacturer_cb_by_model_cb(manufacturer_cb_options, manufacturer_cb_id):\n",
    "    return list(\n",
    "        filter(\n",
    "            lambda x: x[\"id\"] == manufacturer_cb_id,\n",
    "            manufacturer_cb_options,\n",
    "        )\n",
    "    )[0]\n"
   ]
  },
  {
   "cell_type": "code",
   "execution_count": null,
   "metadata": {},
   "outputs": [],
   "source": [
    "# Fetch filter page parameters, manufacturer_cb options included\n",
    "\n",
    "filter_page = \"https://www.sauto.cz/api/v1/items/filter_page?category_id=838&operating_lease=false\"\n",
    "get_and_save(filter_page, FILTER_PAGE_FILE)"
   ]
  },
  {
   "cell_type": "code",
   "execution_count": null,
   "metadata": {},
   "outputs": [],
   "source": [
    "# Fetch models by all manufacturer\n",
    "\n",
    "url_models_mapping_template = Template(\n",
    "    \"https://www.sauto.cz/api/v1/codebooks/values/cached?parent_id=$parent_id\"\n",
    ")\n",
    "\n",
    "manufacturer_cb_options = get_options_of_filter_page_item(\"manufacturer_cb\")\n",
    "\n",
    "for manufacturer_cb_option in manufacturer_cb_options:\n",
    "    parent_id = manufacturer_cb_option[\"id\"]\n",
    "    seo_name = manufacturer_cb_option[\"seo_name\"]\n",
    "    get_and_save(\n",
    "        url_models_mapping_template.substitute(parent_id=parent_id),\n",
    "        f\"./data/base/model_cb-{parent_id}-{seo_name}.json\",\n",
    "    )"
   ]
  },
  {
   "cell_type": "code",
   "execution_count": null,
   "metadata": {},
   "outputs": [],
   "source": [
    "# Fetch counts per manufacturer\n",
    "\n",
    "url = Template(\n",
    "    \"https://www.sauto.cz/api/v1/items/search/counts?manufacturer_model_seo=$manufacturer_model_seo&condition_seo=nove%2Cojete%2Cpredvadeci&category_id=838&filter_name=model_cb&operating_lease=false\"\n",
    ")\n",
    "\n",
    "manufacturer_cb_options = get_options_of_filter_page_item(\"manufacturer_cb\")\n",
    "\n",
    "for manufacturer_cb_option in manufacturer_cb_options:\n",
    "    manufacturer_model_seo = manufacturer_cb_option[\"seo_name\"]\n",
    "    get_and_save(\n",
    "        url.substitute(manufacturer_model_seo=manufacturer_model_seo),\n",
    "        f\"./data/counts/{manufacturer_model_seo}.json\",\n",
    "    )"
   ]
  },
  {
   "cell_type": "code",
   "execution_count": 129,
   "metadata": {},
   "outputs": [],
   "source": [
    "# Returns number of ads per manufacturer_cb and model_cb combination\n",
    "\n",
    "\n",
    "def get_ads_count(manufacturer_cb, model) -> int:\n",
    "    with open(f'./data/counts/{manufacturer_cb[\"seo_name\"]}.json', \"r\") as f:\n",
    "        counts = json.load(f)\n",
    "        return counts[\"result\"][\"advert_counts\"].get(str(model[\"value\"]), 0)"
   ]
  },
  {
   "cell_type": "code",
   "execution_count": 138,
   "metadata": {},
   "outputs": [],
   "source": [
    "def fetch_all_ads(manufacturer_seo, model_seo, ads_count, batch_size=100):\n",
    "    url = Template(\n",
    "        \"https://www.sauto.cz/api/v1/items/search?limit=$limit&offset=$offset&manufacturer_model_seo=$manufacturer_cb%3A$model_cb&condition_seo=nove%2Cojete%2Cpredvadeci&category_id=838&operating_lease=false&timestamp_to=$timestamp_to\"\n",
    "    )\n",
    "\n",
    "    for offset in range(0, ads_count, batch_size):\n",
    "        url_to_search = url.substitute(\n",
    "            limit=batch_size,\n",
    "            offset=offset,\n",
    "            manufacturer_cb=manufacturer_seo,\n",
    "            model_cb=model_seo,\n",
    "            timestamp_to=int(time.time()),\n",
    "        )\n",
    "        get_and_save(\n",
    "            url_to_search,\n",
    "            f\"./data/search-results/{manufacturer_seo}-{model_seo}-{offset}.json\",\n",
    "        )\n"
   ]
  },
  {
   "cell_type": "code",
   "execution_count": null,
   "metadata": {},
   "outputs": [],
   "source": [
    "manufacturer_cb_options = get_options_of_filter_page_item(\"manufacturer_cb\")\n",
    "\n",
    "files = [\n",
    "    filename\n",
    "    for filename in os.listdir(\"./data/base\")\n",
    "    if filename.startswith(\"model_cb\")\n",
    "]\n",
    "\n",
    "for file in files:\n",
    "    with open(\"./data/base/\" + file, \"r\") as f:\n",
    "        models = json.load(f)[\"results\"]\n",
    "        manufacturer_cb = get_manufacturer_cb_by_model_cb(\n",
    "            manufacturer_cb_options, models[0][\"parent\"][\"id\"]\n",
    "        )\n",
    "\n",
    "        for model in models:\n",
    "            ads_count = get_ads_count(manufacturer_cb, model)\n",
    "            if ads_count > 0:\n",
    "                fetch_all_ads(\n",
    "                    manufacturer_seo=manufacturer_cb[\"seo_name\"],\n",
    "                    model_seo=model[\"seo_name\"],\n",
    "                    ads_count=ads_count,\n",
    "                )\n",
    "    time.sleep(0.0244 * randint(5, 14))\n"
   ]
  }
 ],
 "metadata": {
  "kernelspec": {
   "display_name": "Python 3.10.6 ('.venv': venv)",
   "language": "python",
   "name": "python3"
  },
  "language_info": {
   "codemirror_mode": {
    "name": "ipython",
    "version": 3
   },
   "file_extension": ".py",
   "mimetype": "text/x-python",
   "name": "python",
   "nbconvert_exporter": "python",
   "pygments_lexer": "ipython3",
   "version": "3.10.6"
  },
  "orig_nbformat": 4,
  "vscode": {
   "interpreter": {
    "hash": "becc7e32bb7b66c7db684622e14b95e46ac717ee25cedb5bad11a746ccc15eef"
   }
  }
 },
 "nbformat": 4,
 "nbformat_minor": 2
}
