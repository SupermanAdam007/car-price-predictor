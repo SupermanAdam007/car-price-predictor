{
 "cells": [
  {
   "cell_type": "code",
   "execution_count": 1,
   "metadata": {},
   "outputs": [],
   "source": [
    "import os\n",
    "import numpy as np\n",
    "import pandas as pd\n",
    "import math\n",
    "import tensorflow as tf\n",
    "from tensorflow.keras import layers"
   ]
  },
  {
   "cell_type": "code",
   "execution_count": 2,
   "metadata": {},
   "outputs": [
    {
     "data": {
      "text/html": [
       "<div>\n",
       "<style scoped>\n",
       "    .dataframe tbody tr th:only-of-type {\n",
       "        vertical-align: middle;\n",
       "    }\n",
       "\n",
       "    .dataframe tbody tr th {\n",
       "        vertical-align: top;\n",
       "    }\n",
       "\n",
       "    .dataframe thead th {\n",
       "        text-align: right;\n",
       "    }\n",
       "</style>\n",
       "<table border=\"1\" class=\"dataframe\">\n",
       "  <thead>\n",
       "    <tr style=\"text-align: right;\">\n",
       "      <th></th>\n",
       "      <th>fuel_cb</th>\n",
       "      <th>gearbox_cb</th>\n",
       "      <th>locality</th>\n",
       "      <th>manufacturer_cb</th>\n",
       "      <th>model_cb</th>\n",
       "      <th>price</th>\n",
       "      <th>tachometer</th>\n",
       "      <th>vehicle_age</th>\n",
       "    </tr>\n",
       "  </thead>\n",
       "  <tbody>\n",
       "    <tr>\n",
       "      <th>0</th>\n",
       "      <td>Nafta</td>\n",
       "      <td>Automatická</td>\n",
       "      <td>Středočeský kraj</td>\n",
       "      <td>BMW</td>\n",
       "      <td>Řada 3</td>\n",
       "      <td>1349000</td>\n",
       "      <td>26000</td>\n",
       "      <td>1</td>\n",
       "    </tr>\n",
       "    <tr>\n",
       "      <th>1</th>\n",
       "      <td>Nafta</td>\n",
       "      <td>Manuální</td>\n",
       "      <td>Hlavní město Praha</td>\n",
       "      <td>BMW</td>\n",
       "      <td>Řada 3</td>\n",
       "      <td>455000</td>\n",
       "      <td>193107</td>\n",
       "      <td>5</td>\n",
       "    </tr>\n",
       "    <tr>\n",
       "      <th>2</th>\n",
       "      <td>Nafta</td>\n",
       "      <td>None</td>\n",
       "      <td>Jihočeský kraj</td>\n",
       "      <td>BMW</td>\n",
       "      <td>Řada 3</td>\n",
       "      <td>1510000</td>\n",
       "      <td>12000</td>\n",
       "      <td>1</td>\n",
       "    </tr>\n",
       "    <tr>\n",
       "      <th>3</th>\n",
       "      <td>Nafta</td>\n",
       "      <td>Automatická</td>\n",
       "      <td>Královéhradecký kraj</td>\n",
       "      <td>BMW</td>\n",
       "      <td>Řada 3</td>\n",
       "      <td>1228149</td>\n",
       "      <td>25400</td>\n",
       "      <td>1</td>\n",
       "    </tr>\n",
       "    <tr>\n",
       "      <th>4</th>\n",
       "      <td>Hybridní</td>\n",
       "      <td>Automatická</td>\n",
       "      <td>Moravskoslezský kraj</td>\n",
       "      <td>BMW</td>\n",
       "      <td>Řada 3</td>\n",
       "      <td>1703000</td>\n",
       "      <td>24000</td>\n",
       "      <td>1</td>\n",
       "    </tr>\n",
       "  </tbody>\n",
       "</table>\n",
       "</div>"
      ],
      "text/plain": [
       "    fuel_cb   gearbox_cb              locality manufacturer_cb model_cb  \\\n",
       "0     Nafta  Automatická      Středočeský kraj             BMW   Řada 3   \n",
       "1     Nafta     Manuální    Hlavní město Praha             BMW   Řada 3   \n",
       "2     Nafta         None        Jihočeský kraj             BMW   Řada 3   \n",
       "3     Nafta  Automatická  Královéhradecký kraj             BMW   Řada 3   \n",
       "4  Hybridní  Automatická  Moravskoslezský kraj             BMW   Řada 3   \n",
       "\n",
       "     price  tachometer  vehicle_age  \n",
       "0  1349000       26000            1  \n",
       "1   455000      193107            5  \n",
       "2  1510000       12000            1  \n",
       "3  1228149       25400            1  \n",
       "4  1703000       24000            1  "
      ]
     },
     "execution_count": 2,
     "metadata": {},
     "output_type": "execute_result"
    }
   ],
   "source": [
    "dataset_df = pd.read_json(\"./data/all_ads_small.json\")\n",
    "dataset_df = dataset_df.drop([\"id\", \"category\"], axis=1)\n",
    "dataset_df.head(5)"
   ]
  },
  {
   "cell_type": "code",
   "execution_count": 3,
   "metadata": {},
   "outputs": [],
   "source": [
    "train_numerical = dataset_df.select_dtypes(exclude=[\"object\"])\n",
    "train_numerical.fillna(0, inplace=True)\n",
    "train_categoric = dataset_df.select_dtypes(include=[\"object\"])\n",
    "train_categoric.fillna(\"null\", inplace=True)\n",
    "train = train_numerical.merge(train_categoric, left_index=True, right_index=True)\n",
    "\n",
    "train.vehicle_age.where(train.vehicle_age > 0, 0, inplace=True)"
   ]
  },
  {
   "cell_type": "code",
   "execution_count": 4,
   "metadata": {
    "scrolled": true
   },
   "outputs": [
    {
     "data": {
      "text/html": [
       "<div>\n",
       "<style scoped>\n",
       "    .dataframe tbody tr th:only-of-type {\n",
       "        vertical-align: middle;\n",
       "    }\n",
       "\n",
       "    .dataframe tbody tr th {\n",
       "        vertical-align: top;\n",
       "    }\n",
       "\n",
       "    .dataframe thead th {\n",
       "        text-align: right;\n",
       "    }\n",
       "</style>\n",
       "<table border=\"1\" class=\"dataframe\">\n",
       "  <thead>\n",
       "    <tr style=\"text-align: right;\">\n",
       "      <th></th>\n",
       "      <th>price</th>\n",
       "      <th>tachometer</th>\n",
       "      <th>vehicle_age</th>\n",
       "      <th>fuel_cb</th>\n",
       "      <th>gearbox_cb</th>\n",
       "      <th>locality</th>\n",
       "      <th>manufacturer_cb</th>\n",
       "      <th>model_cb</th>\n",
       "    </tr>\n",
       "  </thead>\n",
       "  <tbody>\n",
       "    <tr>\n",
       "      <th>0</th>\n",
       "      <td>1349000</td>\n",
       "      <td>26000</td>\n",
       "      <td>1</td>\n",
       "      <td>Nafta</td>\n",
       "      <td>Automatická</td>\n",
       "      <td>Středočeský kraj</td>\n",
       "      <td>BMW</td>\n",
       "      <td>Řada 3</td>\n",
       "    </tr>\n",
       "    <tr>\n",
       "      <th>1</th>\n",
       "      <td>455000</td>\n",
       "      <td>193107</td>\n",
       "      <td>5</td>\n",
       "      <td>Nafta</td>\n",
       "      <td>Manuální</td>\n",
       "      <td>Hlavní město Praha</td>\n",
       "      <td>BMW</td>\n",
       "      <td>Řada 3</td>\n",
       "    </tr>\n",
       "    <tr>\n",
       "      <th>2</th>\n",
       "      <td>1510000</td>\n",
       "      <td>12000</td>\n",
       "      <td>1</td>\n",
       "      <td>Nafta</td>\n",
       "      <td>null</td>\n",
       "      <td>Jihočeský kraj</td>\n",
       "      <td>BMW</td>\n",
       "      <td>Řada 3</td>\n",
       "    </tr>\n",
       "    <tr>\n",
       "      <th>3</th>\n",
       "      <td>1228149</td>\n",
       "      <td>25400</td>\n",
       "      <td>1</td>\n",
       "      <td>Nafta</td>\n",
       "      <td>Automatická</td>\n",
       "      <td>Královéhradecký kraj</td>\n",
       "      <td>BMW</td>\n",
       "      <td>Řada 3</td>\n",
       "    </tr>\n",
       "    <tr>\n",
       "      <th>4</th>\n",
       "      <td>1703000</td>\n",
       "      <td>24000</td>\n",
       "      <td>1</td>\n",
       "      <td>Hybridní</td>\n",
       "      <td>Automatická</td>\n",
       "      <td>Moravskoslezský kraj</td>\n",
       "      <td>BMW</td>\n",
       "      <td>Řada 3</td>\n",
       "    </tr>\n",
       "  </tbody>\n",
       "</table>\n",
       "</div>"
      ],
      "text/plain": [
       "     price  tachometer  vehicle_age   fuel_cb   gearbox_cb  \\\n",
       "0  1349000       26000            1     Nafta  Automatická   \n",
       "1   455000      193107            5     Nafta     Manuální   \n",
       "2  1510000       12000            1     Nafta         null   \n",
       "3  1228149       25400            1     Nafta  Automatická   \n",
       "4  1703000       24000            1  Hybridní  Automatická   \n",
       "\n",
       "               locality manufacturer_cb model_cb  \n",
       "0      Středočeský kraj             BMW   Řada 3  \n",
       "1    Hlavní město Praha             BMW   Řada 3  \n",
       "2        Jihočeský kraj             BMW   Řada 3  \n",
       "3  Královéhradecký kraj             BMW   Řada 3  \n",
       "4  Moravskoslezský kraj             BMW   Řada 3  "
      ]
     },
     "execution_count": 4,
     "metadata": {},
     "output_type": "execute_result"
    }
   ],
   "source": [
    "train.head()"
   ]
  },
  {
   "cell_type": "code",
   "execution_count": 5,
   "metadata": {
    "scrolled": true
   },
   "outputs": [
    {
     "name": "stdout",
     "output_type": "stream",
     "text": [
      "Metal device set to: Apple M1\n"
     ]
    },
    {
     "name": "stderr",
     "output_type": "stream",
     "text": [
      "2022-09-28 22:50:07.471947: I tensorflow/core/common_runtime/pluggable_device/pluggable_device_factory.cc:306] Could not identify NUMA node of platform GPU ID 0, defaulting to 0. Your kernel may not have been built with NUMA support.\n",
      "2022-09-28 22:50:07.472039: I tensorflow/core/common_runtime/pluggable_device/pluggable_device_factory.cc:272] Created TensorFlow device (/job:localhost/replica:0/task:0/device:GPU:0 with 0 MB memory) -> physical PluggableDevice (device: 0, name: METAL, pci bus id: <undefined>)\n",
      "2022-09-28 22:50:07.505686: W tensorflow/core/platform/profile_utils/cpu_utils.cc:128] Failed to get CPU frequency: 0 Hz\n",
      "2022-09-28 22:50:07.552497: I tensorflow/core/grappler/optimizers/custom_graph_optimizer_registry.cc:114] Plugin optimizer for device_type GPU is enabled.\n",
      "2022-09-28 22:50:07.564320: I tensorflow/core/grappler/optimizers/custom_graph_optimizer_registry.cc:114] Plugin optimizer for device_type GPU is enabled.\n"
     ]
    },
    {
     "name": "stdout",
     "output_type": "stream",
     "text": [
      "normalizer_tachometer: tf.Tensor(\n",
      "[[-0.9161121   0.97448003 -1.0745034  ...  1.1226097   0.17140234\n",
      "  -0.06758747]], shape=(1, 7895), dtype=float32)\n"
     ]
    },
    {
     "name": "stderr",
     "output_type": "stream",
     "text": [
      "2022-09-28 22:50:08.091317: I tensorflow/core/grappler/optimizers/custom_graph_optimizer_registry.cc:114] Plugin optimizer for device_type GPU is enabled.\n",
      "2022-09-28 22:50:08.103109: I tensorflow/core/grappler/optimizers/custom_graph_optimizer_registry.cc:114] Plugin optimizer for device_type GPU is enabled.\n"
     ]
    },
    {
     "name": "stdout",
     "output_type": "stream",
     "text": [
      "normalizer_vehicle_age: tf.Tensor(\n",
      "[[-0.9456208  -0.3371589  -0.9456208  ...  0.27130297 -0.03292796\n",
      "  -0.18504342]], shape=(1, 7895), dtype=float32)\n"
     ]
    },
    {
     "name": "stderr",
     "output_type": "stream",
     "text": [
      "2022-09-28 22:50:08.620241: I tensorflow/core/grappler/optimizers/custom_graph_optimizer_registry.cc:114] Plugin optimizer for device_type GPU is enabled.\n",
      "2022-09-28 22:50:08.632022: I tensorflow/core/grappler/optimizers/custom_graph_optimizer_registry.cc:114] Plugin optimizer for device_type GPU is enabled.\n"
     ]
    },
    {
     "name": "stdout",
     "output_type": "stream",
     "text": [
      "normalizer_price: tf.Tensor([[205202.66  69211.44 229693.25 ...  91268.03 156662.62 136750.7 ]], shape=(1, 7895), dtype=float32)\n"
     ]
    },
    {
     "name": "stderr",
     "output_type": "stream",
     "text": [
      "2022-09-28 22:50:09.129410: I tensorflow/core/grappler/optimizers/custom_graph_optimizer_registry.cc:114] Plugin optimizer for device_type GPU is enabled.\n"
     ]
    },
    {
     "name": "stdout",
     "output_type": "stream",
     "text": [
      "lookup_locality: tf.Tensor(\n",
      "[[0. 0. 1. ... 0. 0. 0.]\n",
      " [0. 1. 0. ... 0. 0. 0.]\n",
      " [0. 0. 0. ... 0. 0. 0.]\n",
      " ...\n",
      " [0. 0. 1. ... 0. 0. 0.]\n",
      " [0. 0. 0. ... 0. 0. 0.]\n",
      " [0. 0. 0. ... 0. 0. 0.]], shape=(7895, 15), dtype=float32)\n",
      "lookup_gearbox_cb: tf.Tensor(\n",
      "[[0. 0. 1. 0. 0.]\n",
      " [0. 1. 0. 0. 0.]\n",
      " [0. 0. 0. 1. 0.]\n",
      " ...\n",
      " [0. 0. 1. 0. 0.]\n",
      " [0. 0. 1. 0. 0.]\n",
      " [0. 0. 1. 0. 0.]], shape=(7895, 5), dtype=float32)\n"
     ]
    },
    {
     "name": "stderr",
     "output_type": "stream",
     "text": [
      "2022-09-28 22:50:09.334536: I tensorflow/core/grappler/optimizers/custom_graph_optimizer_registry.cc:114] Plugin optimizer for device_type GPU is enabled.\n",
      "2022-09-28 22:50:09.523662: I tensorflow/core/grappler/optimizers/custom_graph_optimizer_registry.cc:114] Plugin optimizer for device_type GPU is enabled.\n"
     ]
    },
    {
     "name": "stdout",
     "output_type": "stream",
     "text": [
      "lookup_manufacturer_cb: tf.Tensor(\n",
      "[[0. 0. 0. ... 0. 0. 0.]\n",
      " [0. 0. 0. ... 0. 0. 0.]\n",
      " [0. 0. 0. ... 0. 0. 0.]\n",
      " ...\n",
      " [0. 0. 0. ... 0. 0. 0.]\n",
      " [0. 0. 0. ... 0. 0. 0.]\n",
      " [0. 0. 0. ... 0. 0. 0.]], shape=(7895, 52), dtype=float32)\n",
      "lookup_model_cb: tf.Tensor(\n",
      "[[0. 0. 0. ... 0. 0. 0.]\n",
      " [0. 0. 0. ... 0. 0. 0.]\n",
      " [0. 0. 0. ... 0. 0. 0.]\n",
      " ...\n",
      " [0. 0. 0. ... 0. 0. 0.]\n",
      " [0. 0. 0. ... 0. 0. 0.]\n",
      " [0. 0. 0. ... 0. 0. 0.]], shape=(7895, 145), dtype=float32)\n"
     ]
    },
    {
     "name": "stderr",
     "output_type": "stream",
     "text": [
      "2022-09-28 22:50:09.709199: I tensorflow/core/grappler/optimizers/custom_graph_optimizer_registry.cc:114] Plugin optimizer for device_type GPU is enabled.\n",
      "2022-09-28 22:50:09.895786: I tensorflow/core/grappler/optimizers/custom_graph_optimizer_registry.cc:114] Plugin optimizer for device_type GPU is enabled.\n"
     ]
    },
    {
     "name": "stdout",
     "output_type": "stream",
     "text": [
      "lookup_fuel_cb: tf.Tensor(\n",
      "[[0. 0. 1. ... 0. 0. 0.]\n",
      " [0. 0. 1. ... 0. 0. 0.]\n",
      " [0. 0. 1. ... 0. 0. 0.]\n",
      " ...\n",
      " [0. 0. 1. ... 0. 0. 0.]\n",
      " [0. 0. 1. ... 0. 0. 0.]\n",
      " [0. 0. 1. ... 0. 0. 0.]], shape=(7895, 8), dtype=float32)\n"
     ]
    }
   ],
   "source": [
    "normalizer_tachometer = layers.Normalization(axis=None)\n",
    "normalizer_tachometer.adapt(train.tachometer)\n",
    "print(\"normalizer_tachometer:\", normalizer_tachometer(train.tachometer))\n",
    "\n",
    "normalizer_vehicle_age = layers.Normalization()\n",
    "normalizer_vehicle_age.adapt(train.vehicle_age)\n",
    "print(\"normalizer_vehicle_age:\", normalizer_vehicle_age(train.vehicle_age))\n",
    "\n",
    "normalizer_price = layers.Normalization()\n",
    "normalizer_price.adapt(train.price)\n",
    "print(\"normalizer_price:\", normalizer_vehicle_age(train.price))\n",
    "\n",
    "lookup_locality = tf.keras.layers.StringLookup(output_mode='one_hot')\n",
    "lookup_locality.adapt(train.locality)\n",
    "print(\"lookup_locality:\", lookup_locality(train.locality))\n",
    "\n",
    "lookup_gearbox_cb = tf.keras.layers.StringLookup(output_mode='one_hot')\n",
    "lookup_gearbox_cb.adapt(train.gearbox_cb)\n",
    "print(\"lookup_gearbox_cb:\", lookup_gearbox_cb(train.gearbox_cb))\n",
    "\n",
    "lookup_manufacturer_cb = tf.keras.layers.StringLookup(output_mode='one_hot')\n",
    "lookup_manufacturer_cb.adapt(train.manufacturer_cb)\n",
    "print(\"lookup_manufacturer_cb:\", lookup_manufacturer_cb(train.manufacturer_cb))\n",
    "\n",
    "lookup_model_cb = tf.keras.layers.StringLookup(output_mode='one_hot')\n",
    "lookup_model_cb.adapt(train.model_cb)\n",
    "print(\"lookup_model_cb:\", lookup_model_cb(train.model_cb))\n",
    "\n",
    "lookup_fuel_cb = tf.keras.layers.StringLookup(output_mode='one_hot')\n",
    "lookup_fuel_cb.adapt(train.fuel_cb)\n",
    "print(\"lookup_fuel_cb:\", lookup_fuel_cb(train.fuel_cb))"
   ]
  },
  {
   "cell_type": "code",
   "execution_count": 26,
   "metadata": {},
   "outputs": [],
   "source": [
    "inputs = {\n",
    "    \"tachometer\": tf.keras.Input(shape=(), dtype='float64'),\n",
    "    \"vehicle_age\": tf.keras.Input(shape=(), dtype='float64'),\n",
    "    \"fuel_cb\": tf.keras.Input(shape=(), dtype='string'),\n",
    "    \"gearbox_cb\": tf.keras.Input(shape=(), dtype='string'),\n",
    "    \"locality\": tf.keras.Input(shape=(), dtype='string'),\n",
    "    \"manufacturer_cb\": tf.keras.Input(shape=(), dtype='string'),\n",
    "    \"model_cb\": tf.keras.Input(shape=(), dtype='string'),\n",
    "}\n",
    "\n",
    "# tachometer_output = normalizer_tachometer(inputs[\"tachometer\"])\n",
    "tachometer_output = tf.cast(tf.expand_dims(inputs[\"tachometer\"], 0), tf.float32)\n",
    "\n",
    "vehicle_age_output = tf.cast(tf.expand_dims(inputs[\"vehicle_age\"], 0), tf.float32)\n",
    "fuel_cb_output = lookup_fuel_cb(inputs[\"fuel_cb\"])\n",
    "gearbox_cb_output = lookup_gearbox_cb(inputs[\"gearbox_cb\"])\n",
    "locality_output = lookup_locality(inputs[\"locality\"])\n",
    "manufacturer_cb_output = lookup_manufacturer_cb(inputs[\"manufacturer_cb\"])\n",
    "model_cb_output = lookup_model_cb(inputs[\"model_cb\"])\n",
    "\n",
    "outputs = {\n",
    "    \"tachometer\": tachometer_output,\n",
    "    \"vehicle_age\": vehicle_age_output,\n",
    "    \"fuel_cb\": fuel_cb_output,\n",
    "    \"gearbox_cb\": gearbox_cb_output,\n",
    "    \"locality\": locality_output,\n",
    "    \"manufacturer_cb\": manufacturer_cb_output,\n",
    "    \"model_cb\": model_cb_output,\n",
    "}\n",
    "preprocessing_model = tf.keras.Model(inputs, outputs)"
   ]
  },
  {
   "cell_type": "code",
   "execution_count": 27,
   "metadata": {},
   "outputs": [],
   "source": [
    "# tf.keras.utils.plot_model(preprocessing_model, show_shapes=True,\n",
    "#     show_dtype=True,\n",
    "#     show_layer_names=True,\n",
    "#     expand_nested=True,\n",
    "#     show_layer_activations=True)"
   ]
  },
  {
   "cell_type": "code",
   "execution_count": 67,
   "metadata": {},
   "outputs": [],
   "source": [
    "dataset = tf.data.Dataset.from_tensor_slices((train.drop(['price'], axis=1).tail(-100).to_dict(orient=\"list\"), list(train.price.tail(-100)))).batch(1)\n",
    "dataset = dataset.map(lambda x, y: (preprocessing_model(x), y),\n",
    "                      num_parallel_calls=tf.data.AUTOTUNE)\n",
    "\n",
    "# Display a preprocessed input sample.\n",
    "# print(next(dataset.take(1).as_numpy_iterator()))"
   ]
  },
  {
   "cell_type": "code",
   "execution_count": 68,
   "metadata": {},
   "outputs": [],
   "source": [
    "inputs = {\n",
    "    \"tachometer\": tf.keras.Input(shape=(1, ), dtype='float32'),\n",
    "    \"vehicle_age\": tf.keras.Input(shape=(1, ), dtype='float32'),\n",
    "    \"fuel_cb\": tf.keras.Input(shape=(len(lookup_fuel_cb.get_vocabulary()),), dtype='float32'),\n",
    "    \"gearbox_cb\": tf.keras.Input(shape=(len(lookup_gearbox_cb.get_vocabulary()),), dtype='float32'),\n",
    "    \"locality\": tf.keras.Input(shape=(len(lookup_locality.get_vocabulary()),), dtype='float32'),\n",
    "    \"manufacturer_cb\": tf.keras.Input(shape=(len(lookup_manufacturer_cb.get_vocabulary()),), dtype='float32'),\n",
    "    \"model_cb\": tf.keras.Input(shape=(len(lookup_model_cb.get_vocabulary()),), dtype='float32'),\n",
    "}\n",
    "\n",
    "outputs = tf.keras.layers.Concatenate()([\n",
    "    inputs[\"tachometer\"],\n",
    "    inputs[\"vehicle_age\"],\n",
    "    inputs[\"fuel_cb\"],\n",
    "    inputs[\"gearbox_cb\"],\n",
    "    inputs[\"locality\"],\n",
    "    inputs[\"manufacturer_cb\"],\n",
    "    inputs[\"model_cb\"],\n",
    "])\n",
    "\n",
    "outputs = tf.keras.layers.Dense(100)(outputs)\n",
    "outputs = tf.keras.layers.Dense(1)(outputs)\n",
    "\n",
    "training_model = tf.keras.Model(inputs, outputs)"
   ]
  },
  {
   "cell_type": "code",
   "execution_count": 69,
   "metadata": {},
   "outputs": [
    {
     "data": {
      "image/png": "[encoded data removed]",
      "text/plain": [
       "<IPython.core.display.Image object>"
      ]
     },
     "execution_count": 69,
     "metadata": {},
     "output_type": "execute_result"
    }
   ],
   "source": [
    "tf.keras.utils.plot_model(training_model, show_shapes=True,\n",
    "    show_dtype=True,\n",
    "    show_layer_names=True,\n",
    "    expand_nested=True,\n",
    "    show_layer_activations=True)"
   ]
  },
  {
   "cell_type": "code",
   "execution_count": 74,
   "metadata": {
    "scrolled": false
   },
   "outputs": [
    {
     "name": "stderr",
     "output_type": "stream",
     "text": [
      "2022-09-28 23:27:04.076359: I tensorflow/core/grappler/optimizers/custom_graph_optimizer_registry.cc:114] Plugin optimizer for device_type GPU is enabled.\n"
     ]
    },
    {
     "name": "stdout",
     "output_type": "stream",
     "text": [
      "7795/7795 [==============================] - 42s 5ms/step - loss: 0.0000e+00\n"
     ]
    },
    {
     "data": {
      "text/plain": [
       "<keras.callbacks.History at 0x17ad41a30>"
      ]
     },
     "execution_count": 74,
     "metadata": {},
     "output_type": "execute_result"
    }
   ],
   "source": [
    "training_model.compile(\n",
    "    loss=tf.keras.losses.CategoricalCrossentropy(from_logits=True))\n",
    "training_model.fit(dataset)"
   ]
  },
  {
   "cell_type": "code",
   "execution_count": 75,
   "metadata": {},
   "outputs": [
    {
     "name": "stdout",
     "output_type": "stream",
     "text": [
      " 50/100 [==============>...............] - ETA: 0s"
     ]
    },
    {
     "name": "stderr",
     "output_type": "stream",
     "text": [
      "2022-09-28 23:27:46.132654: I tensorflow/core/grappler/optimizers/custom_graph_optimizer_registry.cc:114] Plugin optimizer for device_type GPU is enabled.\n"
     ]
    },
    {
     "name": "stdout",
     "output_type": "stream",
     "text": [
      "100/100 [==============================] - 0s 3ms/step\n"
     ]
    }
   ],
   "source": [
    "inputs = preprocessing_model.input\n",
    "outputs = training_model(preprocessing_model(inputs))\n",
    "inference_model = tf.keras.Model(inputs, outputs)\n",
    "\n",
    "inputs_to_predict = train.drop(['price'], axis=1).head(100).to_dict(orient=\"list\")\n",
    "predict_dataset = tf.data.Dataset.from_tensor_slices(inputs_to_predict).batch(1)\n",
    "predictions = inference_model.predict(predict_dataset)"
   ]
  },
  {
   "cell_type": "code",
   "execution_count": 76,
   "metadata": {},
   "outputs": [
    {
     "data": {
      "text/html": [
       "<div>\n",
       "<style scoped>\n",
       "    .dataframe tbody tr th:only-of-type {\n",
       "        vertical-align: middle;\n",
       "    }\n",
       "\n",
       "    .dataframe tbody tr th {\n",
       "        vertical-align: top;\n",
       "    }\n",
       "\n",
       "    .dataframe thead th {\n",
       "        text-align: right;\n",
       "    }\n",
       "</style>\n",
       "<table border=\"1\" class=\"dataframe\">\n",
       "  <thead>\n",
       "    <tr style=\"text-align: right;\">\n",
       "      <th></th>\n",
       "      <th>predicted</th>\n",
       "      <th>real</th>\n",
       "    </tr>\n",
       "  </thead>\n",
       "  <tbody>\n",
       "    <tr>\n",
       "      <th>0</th>\n",
       "      <td>381039232</td>\n",
       "      <td>1349000</td>\n",
       "    </tr>\n",
       "    <tr>\n",
       "      <th>1</th>\n",
       "      <td>2829766656</td>\n",
       "      <td>455000</td>\n",
       "    </tr>\n",
       "    <tr>\n",
       "      <th>2</th>\n",
       "      <td>175882800</td>\n",
       "      <td>1510000</td>\n",
       "    </tr>\n",
       "    <tr>\n",
       "      <th>3</th>\n",
       "      <td>372244608</td>\n",
       "      <td>1228149</td>\n",
       "    </tr>\n",
       "    <tr>\n",
       "      <th>4</th>\n",
       "      <td>351722176</td>\n",
       "      <td>1703000</td>\n",
       "    </tr>\n",
       "  </tbody>\n",
       "</table>\n",
       "</div>"
      ],
      "text/plain": [
       "   predicted     real\n",
       "0  381039232  1349000\n",
       "1 2829766656   455000\n",
       "2  175882800  1510000\n",
       "3  372244608  1228149\n",
       "4  351722176  1703000"
      ]
     },
     "execution_count": 76,
     "metadata": {},
     "output_type": "execute_result"
    }
   ],
   "source": [
    "pd.options.display.float_format = '{:.0f}'.format\n",
    "\n",
    "df_results = pd.DataFrame({\"predicted\": predictions.flatten(), \"real\": train.price.head(100)})\n",
    "df_results.head()"
   ]
  },
  {
   "cell_type": "code",
   "execution_count": 77,
   "metadata": {},
   "outputs": [
    {
     "data": {
      "text/html": [
       "<div>\n",
       "<style scoped>\n",
       "    .dataframe tbody tr th:only-of-type {\n",
       "        vertical-align: middle;\n",
       "    }\n",
       "\n",
       "    .dataframe tbody tr th {\n",
       "        vertical-align: top;\n",
       "    }\n",
       "\n",
       "    .dataframe thead th {\n",
       "        text-align: right;\n",
       "    }\n",
       "</style>\n",
       "<table border=\"1\" class=\"dataframe\">\n",
       "  <thead>\n",
       "    <tr style=\"text-align: right;\">\n",
       "      <th></th>\n",
       "      <th>predicted</th>\n",
       "      <th>real</th>\n",
       "    </tr>\n",
       "  </thead>\n",
       "  <tbody>\n",
       "    <tr>\n",
       "      <th>count</th>\n",
       "      <td>100</td>\n",
       "      <td>100</td>\n",
       "    </tr>\n",
       "    <tr>\n",
       "      <th>mean</th>\n",
       "      <td>2157953280</td>\n",
       "      <td>585128</td>\n",
       "    </tr>\n",
       "    <tr>\n",
       "      <th>std</th>\n",
       "      <td>1475244288</td>\n",
       "      <td>568170</td>\n",
       "    </tr>\n",
       "    <tr>\n",
       "      <th>min</th>\n",
       "      <td>44562</td>\n",
       "      <td>32000</td>\n",
       "    </tr>\n",
       "    <tr>\n",
       "      <th>25%</th>\n",
       "      <td>677242864</td>\n",
       "      <td>126725</td>\n",
       "    </tr>\n",
       "    <tr>\n",
       "      <th>50%</th>\n",
       "      <td>2188962432</td>\n",
       "      <td>344000</td>\n",
       "    </tr>\n",
       "    <tr>\n",
       "      <th>75%</th>\n",
       "      <td>3326569152</td>\n",
       "      <td>1174250</td>\n",
       "    </tr>\n",
       "    <tr>\n",
       "      <th>max</th>\n",
       "      <td>6290655744</td>\n",
       "      <td>1858000</td>\n",
       "    </tr>\n",
       "  </tbody>\n",
       "</table>\n",
       "</div>"
      ],
      "text/plain": [
       "       predicted    real\n",
       "count        100     100\n",
       "mean  2157953280  585128\n",
       "std   1475244288  568170\n",
       "min        44562   32000\n",
       "25%    677242864  126725\n",
       "50%   2188962432  344000\n",
       "75%   3326569152 1174250\n",
       "max   6290655744 1858000"
      ]
     },
     "execution_count": 77,
     "metadata": {},
     "output_type": "execute_result"
    }
   ],
   "source": [
    "df_results.describe()"
   ]
  },
  {
   "cell_type": "code",
   "execution_count": null,
   "metadata": {},
   "outputs": [],
   "source": []
  },
  {
   "cell_type": "code",
   "execution_count": null,
   "metadata": {},
   "outputs": [],
   "source": []
  }
 ],
 "metadata": {
  "kernelspec": {
   "display_name": "Python 3.9 (tensorflow)",
   "language": "python",
   "name": "tensorflow"
  },
  "language_info": {
   "codemirror_mode": {
    "name": "ipython",
    "version": 3
   },
   "file_extension": ".py",
   "mimetype": "text/x-python",
   "name": "python",
   "nbconvert_exporter": "python",
   "pygments_lexer": "ipython3",
   "version": "3.9.13"
  },
  "vscode": {
   "interpreter": {
    "hash": "becc7e32bb7b66c7db684622e14b95e46ac717ee25cedb5bad11a746ccc15eef"
   }
  }
 },
 "nbformat": 4,
 "nbformat_minor": 2
}
