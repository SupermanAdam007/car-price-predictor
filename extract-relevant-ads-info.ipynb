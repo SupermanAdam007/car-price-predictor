{
 "cells": [
  {
   "cell_type": "code",
   "execution_count": 69,
   "metadata": {},
   "outputs": [],
   "source": [
    "import json\n",
    "import os\n",
    "from copy import deepcopy\n",
    "from datetime import datetime\n"
   ]
  },
  {
   "cell_type": "code",
   "execution_count": 40,
   "metadata": {},
   "outputs": [],
   "source": [
    "def print_dict(dict_obj):\n",
    "    print(json.dumps(dict_obj, indent=2, ensure_ascii=False))"
   ]
  },
  {
   "cell_type": "code",
   "execution_count": 73,
   "metadata": {},
   "outputs": [],
   "source": [
    "def drop_uninterested_fields_from_dict(my_dict, interesting_fields: list) -> dict:\n",
    "    if not my_dict or type(my_dict) == str:\n",
    "        return my_dict\n",
    "\n",
    "    for key in list(my_dict.keys()):\n",
    "        if key not in interesting_fields:\n",
    "            my_dict.pop(key, None)\n",
    "    return my_dict\n",
    "\n",
    "def unbox_one_level_nested_sub_dicts(my_dict) -> dict:\n",
    "    if not my_dict or type(my_dict) == str:\n",
    "        return my_dict\n",
    "\n",
    "    for key in list(my_dict.keys()):\n",
    "        if type(my_dict[key]) == dict:\n",
    "            sub_dict_keys = list(my_dict[key].keys())\n",
    "            if len(sub_dict_keys) == 1:\n",
    "                my_dict[key] = my_dict[key][sub_dict_keys[0]]\n",
    "\n",
    "    return my_dict\n",
    "\n",
    "def add_none_for_missing_interesting_fields(my_dict, interesting_fields) -> dict:\n",
    "    if not my_dict or type(my_dict) == str:\n",
    "        return my_dict\n",
    "\n",
    "    keys = list(my_dict.keys())\n",
    "\n",
    "    for interesting_field in interesting_fields:\n",
    "        if interesting_field not in keys:\n",
    "            my_dict[interesting_field] = None\n",
    "\n",
    "def fill_vehicle_age(my_dict):\n",
    "    vehicle_age_field_name = \"vehicle_age\"\n",
    "    \n",
    "    in_operation_date = my_dict[\"in_operation_date\"]\n",
    "    manufacturing_date = my_dict[\"manufacturing_date\"]\n",
    "\n",
    "    if not in_operation_date and not manufacturing_date:\n",
    "        my_dict[vehicle_age_field_name] = None\n",
    "        return my_dict\n",
    "    \n",
    "    if in_operation_date:\n",
    "        in_operation_date_datetime = datetime.strptime(in_operation_date, \"%Y-%m-%d\")\n",
    "        delta = datetime.now() - in_operation_date_datetime\n",
    "        my_dict[vehicle_age_field_name] = int(delta.days / 365.25)\n",
    "        return my_dict\n",
    "    \n",
    "    if manufacturing_date:\n",
    "        manufacturing_date_datetime = datetime.strptime(manufacturing_date, \"%Y-%m-%d\")\n",
    "        delta = datetime.now() - manufacturing_date_datetime\n",
    "        my_dict[vehicle_age_field_name] = int(delta.days / 365.25)\n",
    "        return my_dict\n",
    "    \n",
    "    return my_dict\n"
   ]
  },
  {
   "cell_type": "code",
   "execution_count": 74,
   "metadata": {},
   "outputs": [],
   "source": [
    "# Load all data\n",
    "\n",
    "files = os.listdir(\"./data/search-results\")\n",
    "\n",
    "all_results_data = []\n",
    "for file in files:\n",
    "    with open(\"./data/search-results/\" + file, \"r\") as f:\n",
    "        results = json.load(f)\n",
    "        all_results_data += results[\"results\"]"
   ]
  },
  {
   "cell_type": "code",
   "execution_count": 77,
   "metadata": {},
   "outputs": [],
   "source": [
    "# Drop fields other than: \"manufacturer_cb.name\", \"model_cb.name\", \"price\", \"tachometer\", \"locality.region\", \"fuel_cb.name\", \"gearbox_cb.name\"\n",
    "interesting_fields = [\"in_operation_date\", \"manufacturing_date\", \"id\", \"category\", \"manufacturer_cb\", \"model_cb\", \"price\", \"tachometer\", \"locality\", \"fuel_cb\", \"gearbox_cb\"]\n",
    "interesting_fields_after_preprocessing = [\"id\", \"category\", \"manufacturer_cb\", \"model_cb\", \"price\", \"tachometer\", \"locality\", \"fuel_cb\", \"gearbox_cb\", \"vehicle_age\"]\n",
    "interesting_fields_locality = [\"region\"]\n",
    "interesting_fields_fuel_cb = [\"name\"]\n",
    "interesting_fields_gearbox_cb = [\"name\"]\n",
    "interesting_fields_manufacturer_cb = [\"name\"]\n",
    "interesting_fields_model_cb = [\"name\"]\n",
    "interesting_fields_category = [\"name\"]\n",
    "\n",
    "all_results = deepcopy(all_results_data)\n",
    "\n",
    "for result in all_results:\n",
    "    drop_uninterested_fields_from_dict(result, interesting_fields)\n",
    "    drop_uninterested_fields_from_dict(result.get('locality'), interesting_fields_locality)\n",
    "    drop_uninterested_fields_from_dict(result.get('fuel_cb'), interesting_fields_fuel_cb)\n",
    "    drop_uninterested_fields_from_dict(result.get('gearbox_cb'), interesting_fields_gearbox_cb)\n",
    "    drop_uninterested_fields_from_dict(result.get('manufacturer_cb'), interesting_fields_manufacturer_cb)\n",
    "    drop_uninterested_fields_from_dict(result.get('model_cb'), interesting_fields_model_cb)\n",
    "    unbox_one_level_nested_sub_dicts(result)\n",
    "    add_none_for_missing_interesting_fields(result, interesting_fields)\n",
    "    fill_vehicle_age(result)\n",
    "    drop_uninterested_fields_from_dict(result, interesting_fields_after_preprocessing)\n",
    "    "
   ]
  },
  {
   "cell_type": "code",
   "execution_count": 78,
   "metadata": {},
   "outputs": [],
   "source": [
    "with open(\"./data/all_ads.json\", \"w\") as f:\n",
    "    f.write(json.dumps(all_results, indent=2, ensure_ascii=False, sort_keys=True))\n"
   ]
  },
  {
   "cell_type": "code",
   "execution_count": null,
   "metadata": {},
   "outputs": [],
   "source": []
  }
 ],
 "metadata": {
  "kernelspec": {
   "display_name": "Python 3.10.6 ('.venv': venv)",
   "language": "python",
   "name": "python3"
  },
  "language_info": {
   "codemirror_mode": {
    "name": "ipython",
    "version": 3
   },
   "file_extension": ".py",
   "mimetype": "text/x-python",
   "name": "python",
   "nbconvert_exporter": "python",
   "pygments_lexer": "ipython3",
   "version": "3.10.6"
  },
  "orig_nbformat": 4,
  "vscode": {
   "interpreter": {
    "hash": "becc7e32bb7b66c7db684622e14b95e46ac717ee25cedb5bad11a746ccc15eef"
   }
  }
 },
 "nbformat": 4,
 "nbformat_minor": 2
}
